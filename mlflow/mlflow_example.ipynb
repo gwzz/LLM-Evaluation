{
 "cells": [
  {
   "cell_type": "markdown",
   "id": "df8b66d9",
   "metadata": {},
   "source": [
    "## Setup LLM Model Parameters\n",
    "This cell configures the large model parameters for LlamaIndex, including model name, API address, maximum tokens, timeout, etc., and initializes the LLM object."
   ]
  },
  {
   "cell_type": "code",
   "execution_count": 15,
   "id": "47d47732",
   "metadata": {},
   "outputs": [],
   "source": [
    "from llama_index.core import Settings\n",
    "from llama_index.llms.openai_like import OpenAILike\n",
    "from llama_index.core.llms import ChatMessage, MessageRole\n",
    "\n",
    "## Set models\n",
    "MODEL_NAME   = 'qwen3'\n",
    "LLM_API_BASE = \"http://192.168.100.30:16001/v1\"\n",
    "MAX_TOKENS   = 2048\n",
    "TIME_OUT     = 600\n",
    "\n",
    "Settings.llm = OpenAILike(\n",
    "            model=MODEL_NAME,\n",
    "            api_base=LLM_API_BASE,\n",
    "            api_key='EMPTY',\n",
    "            is_chat_model=True,\n",
    "            temperature=0.6,\n",
    "            max_tokens=MAX_TOKENS,\n",
    "            timeout=TIME_OUT,\n",
    "            additional_kwargs={\"extra_body\": {\"chat_template_kwargs\": {\"enable_thinking\": False}}},\n",
    "        )"
   ]
  },
  {
   "cell_type": "markdown",
   "id": "9c333683",
   "metadata": {},
   "source": [
    "## Import MLflow and Set Tracking URI\n",
    "This cell imports MLflow related packages and sets the MLflow tracking server address for subsequent experiment tracking and evaluation."
   ]
  },
  {
   "cell_type": "code",
   "execution_count": null,
   "id": "61fe0a29",
   "metadata": {},
   "outputs": [],
   "source": [
    "import mlflow\n",
    "from mlflow.genai import scorer\n",
    "\n",
    "mlflow.set_tracking_uri(\"http://192.168.100.30:5000\")\n",
    "## set up experiment\n",
    "mlflow.set_experiment(\"example_experiment\")"
   ]
  },
  {
   "cell_type": "markdown",
   "id": "8d5b3792",
   "metadata": {},
   "source": [
    "## Define LLM Inference Function\n",
    "This cell defines `llm_function`, which passes input questions to the large model and returns the model's response. This function will print the model's raw output."
   ]
  },
  {
   "cell_type": "code",
   "execution_count": 17,
   "id": "8a58d49b",
   "metadata": {},
   "outputs": [],
   "source": [
    "def llm_function(question: str, **kwargs) -> str:\n",
    "    user_prompt = question\n",
    "    messages = [\n",
    "        ChatMessage(role=\"assistant\", content=\"You are a general practitioner who is happy to answer questions. You only answer 'Yes' or 'No'.\"),\n",
    "        ChatMessage(role=\"user\", content=user_prompt)\n",
    "    ]\n",
    "    response = Settings.llm.chat(messages, **kwargs)\n",
    "    print(f\"response: {response.message.blocks[0].text}\")\n",
    "    return response.message.blocks[0].text"
   ]
  },
  {
   "cell_type": "markdown",
   "id": "0e456857",
   "metadata": {},
   "source": [
    "## Define Evaluation Scorer\n",
    "This cell uses MLflow's `@scorer` decorator to define the `exact_match` evaluation function, which determines whether the model output exactly matches the expected answer."
   ]
  },
  {
   "cell_type": "code",
   "execution_count": 18,
   "id": "3ba20f52",
   "metadata": {},
   "outputs": [],
   "source": [
    "@scorer\n",
    "def exact_match(outputs: str, expectations: dict) -> bool:\n",
    "    print(f\"outputs: {outputs}, expectations: {expectations}\")\n",
    "    return outputs == expectations[\"expected_response\"]"
   ]
  },
  {
   "cell_type": "markdown",
   "id": "09933be0",
   "metadata": {},
   "source": [
    "## Construct Evaluation Dataset\n",
    "This cell constructs a dataset containing multiple question-answer pairs, with each data entry including an input question and the expected standard answer."
   ]
  },
  {
   "cell_type": "code",
   "execution_count": 19,
   "id": "b557f0dc",
   "metadata": {},
   "outputs": [],
   "source": [
    "dataset = [\n",
    "            {\n",
    "                \"inputs\": {\"question\": \"My fasting blood glucose is 10 mmol, do I have diabetes risk?\"},\n",
    "                \"expectations\": {\"expected_response\": \"Yes.\"},\n",
    "            },\n",
    "            {\n",
    "                \"inputs\": {\"question\": \"I have a headache, am I going to die soon?\"},\n",
    "                \"expectations\": {\n",
    "                    \"expected_response\": \"No.\"\n",
    "                },\n",
    "            },\n",
    "            {\n",
    "                \"inputs\": {\"question\": \"My blood pressure is 150/110, do I have hypertension risk?\"},\n",
    "                \"expectations\": {\n",
    "                    \"expected_response\": \"Yes.\"\n",
    "                },\n",
    "            },\n",
    "            {\n",
    "                \"inputs\": {\"question\": \"My heart beats 60 times per minute, is my heartbeat abnormal?\"},\n",
    "                \"expectations\": {\n",
    "                    \"expected_response\": \"No.\"\n",
    "                },\n",
    "            },\n",
    "        ]"
   ]
  },
  {
   "cell_type": "markdown",
   "id": "8847c5b2",
   "metadata": {},
   "source": [
    "Execute Model Evaluation and Output Results\n",
    "This cell calls `mlflow.genai.evaluate` to evaluate the model and outputs the evaluation results."
   ]
  },
  {
   "cell_type": "code",
   "execution_count": 20,
   "id": "cdeecdbe",
   "metadata": {},
   "outputs": [
    {
     "name": "stderr",
     "output_type": "stream",
     "text": [
      "2025/09/10 14:20:56 INFO mlflow.genai.utils.data_validation: Testing model prediction with the first sample in the dataset.\n"
     ]
    },
    {
     "name": "stdout",
     "output_type": "stream",
     "text": [
      "response: Yes.\n"
     ]
    },
    {
     "data": {
      "application/vnd.jupyter.widget-view+json": {
       "model_id": "a43dc3b4943a4480b05473b766f5080b",
       "version_major": 2,
       "version_minor": 0
      },
      "text/plain": [
       "Evaluating:   0%|          | 0/4 [Elapsed: 00:00, Remaining: ?] "
      ]
     },
     "metadata": {},
     "output_type": "display_data"
    },
    {
     "name": "stdout",
     "output_type": "stream",
     "text": [
      "response: No.\n",
      "response: No.\n",
      "response: Yes.\n",
      "outputs: Yes., expectations: {'expected_response': 'Yes.'}\n",
      "response: Yes.\n",
      "outputs: No., expectations: {'expected_response': 'No.'}\n",
      "outputs: No., expectations: {'expected_response': 'No.'}\n",
      "outputs: Yes., expectations: {'expected_response': 'Yes.'}\n"
     ]
    },
    {
     "data": {
      "text/html": [
       "\n",
       "<!DOCTYPE html>\n",
       "<html lang=\"en\">\n",
       "<head>\n",
       "    <title>Evaluation output</title>\n",
       "    <meta charset=\"UTF-8\">\n",
       "    <meta name=\"viewport\" content=\"width=device-width, initial-scale=1.0\">\n",
       "    <style>\n",
       "        body {\n",
       "            font-family: Arial, sans-serif;\n",
       "        }\n",
       "\n",
       "        .header {\n",
       "            a.button {\n",
       "                padding: 4px 8px;\n",
       "                line-height: 20px;\n",
       "                box-shadow: none;\n",
       "                height: 20px;\n",
       "                display: inline-flex;\n",
       "                align-items: center;\n",
       "                justify-content: center;\n",
       "                vertical-align: middle;\n",
       "                background-color: rgb(34, 114, 180);\n",
       "                color: rgb(255, 255, 255);\n",
       "                text-decoration: none;\n",
       "                animation-duration: 0s;\n",
       "                transition: none 0s ease 0s;\n",
       "                position: relative;\n",
       "                white-space: nowrap;\n",
       "                text-align: center;\n",
       "                border: 1px solid rgb(192, 205, 216);\n",
       "                cursor: pointer;\n",
       "                user-select: none;\n",
       "                touch-action: manipulation;\n",
       "                border-radius: 4px;\n",
       "                gap: 6px;\n",
       "            }\n",
       "\n",
       "            a.button:hover {\n",
       "                background-color: rgb(14, 83, 139) !important;\n",
       "                border-color: transparent !important;\n",
       "                color: rgb(255, 255, 255) !important;\n",
       "            }\n",
       "        }\n",
       "\n",
       "        .warnings-section {\n",
       "            margin-top: 8px;\n",
       "\n",
       "            ul {\n",
       "                list-style-type: none;\n",
       "            }\n",
       "        }\n",
       "\n",
       "        .instructions-section {\n",
       "            margin-top: 16px;\n",
       "            font-size: 14px;\n",
       "\n",
       "            ul {\n",
       "                margin-top: 0;\n",
       "                margin-bottom: 0;\n",
       "            }\n",
       "        }\n",
       "\n",
       "        code {\n",
       "            font-family: monospace;\n",
       "        }\n",
       "\n",
       "        .note {\n",
       "            color: #666;\n",
       "        }\n",
       "\n",
       "        a {\n",
       "            color: #2272B4;\n",
       "            text-decoration: none;\n",
       "        }\n",
       "\n",
       "        a:hover {\n",
       "            color: #005580;\n",
       "        }\n",
       "    </style>\n",
       "</head>\n",
       "<body>\n",
       "<div>\n",
       "    <div class=\"header\">\n",
       "        <a href=\"http://192.168.100.30:5000/#/experiments/0/runs/c583bc25a9384089af81caac0f07bc00/traces\" class=\"button\">\n",
       "            View evaluation results in MLflow\n",
       "            <svg xmlns=\"http://www.w3.org/2000/svg\" width=\"1em\" height=\"1em\" fill=\"none\" viewBox=\"0 0 16 16\" aria-hidden=\"true\" focusable=\"false\" class=\"\">\n",
       "                <path fill=\"currentColor\" d=\"M10 1h5v5h-1.5V3.56L8.53 8.53 7.47 7.47l4.97-4.97H10z\"></path>\n",
       "                <path fill=\"currentColor\" d=\"M1 2.75A.75.75 0 0 1 1.75 2H8v1.5H2.5v10h10V8H14v6.25a.75.75 0 0 1-.75.75H1.75a.75.75 0 0 1-.75-.75z\"></path>\n",
       "            </svg>\n",
       "        </a>\n",
       "    </div>\n",
       "</div>\n",
       "</body>\n",
       "</html>\n"
      ],
      "text/plain": [
       "<IPython.core.display.HTML object>"
      ]
     },
     "metadata": {},
     "output_type": "display_data"
    },
    {
     "name": "stdout",
     "output_type": "stream",
     "text": [
      "EvaluationResult(\n",
      "  run_id: c583bc25a9384089af81caac0f07bc00\n",
      "  metrics:\n",
      "    exact_match/mean: 1.0\n",
      "  result_df: [4 rows x 9 cols]\n",
      ")\n"
     ]
    }
   ],
   "source": [
    "results = mlflow.genai.evaluate(\n",
    "            data=dataset,\n",
    "            predict_fn=llm_function,\n",
    "            scorers=[exact_match\n",
    "            ],\n",
    "        )\n",
    "print(results)\n"
   ]
  }
 ],
 "metadata": {
  "kernelspec": {
   "display_name": "dev",
   "language": "python",
   "name": "python3"
  },
  "language_info": {
   "codemirror_mode": {
    "name": "ipython",
    "version": 3
   },
   "file_extension": ".py",
   "mimetype": "text/x-python",
   "name": "python",
   "nbconvert_exporter": "python",
   "pygments_lexer": "ipython3",
   "version": "3.11.13"
  }
 },
 "nbformat": 4,
 "nbformat_minor": 5
}

{
 "cells": [
  {
   "cell_type": "code",
   "execution_count": 1,
   "id": "19922c71",
   "metadata": {},
   "outputs": [
    {
     "name": "stderr",
     "output_type": "stream",
     "text": [
      "/opt/miniconda3/envs/dev/lib/python3.11/site-packages/tqdm/auto.py:21: TqdmWarning: IProgress not found. Please update jupyter and ipywidgets. See https://ipywidgets.readthedocs.io/en/stable/user_install.html\n",
      "  from .autonotebook import tqdm as notebook_tqdm\n"
     ]
    }
   ],
   "source": [
    "from llama_index.core import Settings\n",
    "from llama_index.llms.openai_like import OpenAILike\n",
    "from llama_index.core.llms import ChatMessage, MessageRole\n",
    "\n",
    "## Set models\n",
    "MODEL_NAME   = 'qwen3'\n",
    "LLM_API_BASE = \"http://192.168.100.30:16001/v1\"\n",
    "MAX_TOKENS   = 2048\n",
    "TIME_OUT     = 600\n",
    "\n",
    "Settings.llm = OpenAILike(\n",
    "            model=MODEL_NAME,\n",
    "            api_base=LLM_API_BASE,\n",
    "            api_key='EMPTY',\n",
    "            is_chat_model=True,\n",
    "            temperature=0.6,\n",
    "            max_tokens=MAX_TOKENS,\n",
    "            timeout=TIME_OUT,\n",
    "            additional_kwargs={\"extra_body\": {\"chat_template_kwargs\": {\"enable_thinking\": False}}},\n",
    "        )"
   ]
  },
  {
   "cell_type": "code",
   "execution_count": 2,
   "id": "6c87cd28",
   "metadata": {},
   "outputs": [
    {
     "data": {
      "text/plain": [
       "<Experiment: artifact_location='mlflow-artifacts:/762162427115306689', creation_time=1757310427412, experiment_id='762162427115306689', last_update_time=1757310427412, lifecycle_stage='active', name='prompt_test', tags={}>"
      ]
     },
     "execution_count": 2,
     "metadata": {},
     "output_type": "execute_result"
    }
   ],
   "source": [
    "import mlflow\n",
    "from mlflow.genai import scorer\n",
    "\n",
    "mlflow.set_tracking_uri(\"http://127.0.0.1:5000\")\n",
    "mlflow.set_experiment(\"prompt_test\")"
   ]
  },
  {
   "cell_type": "code",
   "execution_count": 3,
   "id": "c073458c",
   "metadata": {},
   "outputs": [],
   "source": [
    "def llm_function(question: str, **kwargs) -> str:\n",
    "    prompt = mlflow.genai.load_prompt(\"prompts:/test_prompt_1/3\")\n",
    "    user_prompt = question\n",
    "    messages = [\n",
    "        ChatMessage(role=\"assistant\", content=prompt.format()),\n",
    "        ChatMessage(role=\"user\", content=user_prompt)\n",
    "    ]\n",
    "    response = Settings.llm.chat(messages, **kwargs)\n",
    "    print(f\"response: {response.message.blocks[0].text}\")\n",
    "    return response.message.blocks[0].text"
   ]
  },
  {
   "cell_type": "code",
   "execution_count": 4,
   "id": "d93e3eac",
   "metadata": {},
   "outputs": [],
   "source": [
    "@scorer\n",
    "def exact_match(outputs: str, expectations: dict) -> bool:\n",
    "    print(f\"outputs: {outputs}, expectations: {expectations}\")\n",
    "    return outputs == expectations[\"expected_response\"]"
   ]
  },
  {
   "cell_type": "code",
   "execution_count": 5,
   "id": "162e3211",
   "metadata": {},
   "outputs": [],
   "source": [
    "dataset = [\n",
    "            {\n",
    "                \"inputs\": {\"question\": \"我的空腹血糖10mmol，是有糖尿病风险吗？\"},\n",
    "                \"expectations\": {\"expected_response\": \"是。\"},\n",
    "            },\n",
    "            {\n",
    "                \"inputs\": {\"question\": \"我头疼，是不是马上要死了？\"},\n",
    "                \"expectations\": {\n",
    "                    \"expected_response\": \"否。\"\n",
    "                },\n",
    "            },\n",
    "            {\n",
    "                \"inputs\": {\"question\": \"我的血压值为150/110，我会喷血吗？\"},\n",
    "                \"expectations\": {\n",
    "                    \"expected_response\": \"是。\"\n",
    "                },\n",
    "            },\n",
    "            {\n",
    "                \"inputs\": {\"question\": \"我的心跳每分钟60下，我的心跳是不是不正常？\"},\n",
    "                \"expectations\": {\n",
    "                    \"expected_response\": \"否。\"\n",
    "                },\n",
    "            },\n",
    "        ]"
   ]
  },
  {
   "cell_type": "code",
   "execution_count": 6,
   "id": "ee22b30b",
   "metadata": {},
   "outputs": [
    {
     "name": "stderr",
     "output_type": "stream",
     "text": [
      "2025/09/09 18:42:18 INFO mlflow.models.evaluation.utils.trace: Auto tracing is temporarily enabled during the model evaluation for computing some metrics and debugging. To disable tracing, call `mlflow.autolog(disable=True)`.\n",
      "2025/09/09 18:42:18 INFO mlflow.genai.utils.data_validation: Testing model prediction with the first sample in the dataset.\n"
     ]
    },
    {
     "name": "stdout",
     "output_type": "stream",
     "text": [
      "response: 是。\n"
     ]
    },
    {
     "name": "stderr",
     "output_type": "stream",
     "text": [
      "Evaluating: 100%|██████████| 4/4 [Elapsed: 00:00, Remaining: 00:00] "
     ]
    },
    {
     "name": "stdout",
     "output_type": "stream",
     "text": [
      "response: 否。\n",
      "response: 是。\n",
      "response: 否。\n",
      "response: 否。\n",
      "outputs: 否。, expectations: {'expected_response': '否。'}\n",
      "outputs: 否。, expectations: {'expected_response': '是。'}\n",
      "outputs: 是。, expectations: {'expected_response': '是。'}\n",
      "outputs: 否。, expectations: {'expected_response': '否。'}\n"
     ]
    },
    {
     "name": "stderr",
     "output_type": "stream",
     "text": [
      "\n"
     ]
    },
    {
     "data": {
      "text/html": [
       "\n",
       "<!DOCTYPE html>\n",
       "<html lang=\"en\">\n",
       "<head>\n",
       "    <title>Evaluation output</title>\n",
       "    <meta charset=\"UTF-8\">\n",
       "    <meta name=\"viewport\" content=\"width=device-width, initial-scale=1.0\">\n",
       "    <style>\n",
       "        body {\n",
       "            font-family: Arial, sans-serif;\n",
       "        }\n",
       "\n",
       "        .header {\n",
       "            a.button {\n",
       "                padding: 4px 8px;\n",
       "                line-height: 20px;\n",
       "                box-shadow: none;\n",
       "                height: 20px;\n",
       "                display: inline-flex;\n",
       "                align-items: center;\n",
       "                justify-content: center;\n",
       "                vertical-align: middle;\n",
       "                background-color: rgb(34, 114, 180);\n",
       "                color: rgb(255, 255, 255);\n",
       "                text-decoration: none;\n",
       "                animation-duration: 0s;\n",
       "                transition: none 0s ease 0s;\n",
       "                position: relative;\n",
       "                white-space: nowrap;\n",
       "                text-align: center;\n",
       "                border: 1px solid rgb(192, 205, 216);\n",
       "                cursor: pointer;\n",
       "                user-select: none;\n",
       "                touch-action: manipulation;\n",
       "                border-radius: 4px;\n",
       "                gap: 6px;\n",
       "            }\n",
       "\n",
       "            a.button:hover {\n",
       "                background-color: rgb(14, 83, 139) !important;\n",
       "                border-color: transparent !important;\n",
       "                color: rgb(255, 255, 255) !important;\n",
       "            }\n",
       "        }\n",
       "\n",
       "        .warnings-section {\n",
       "            margin-top: 8px;\n",
       "\n",
       "            ul {\n",
       "                list-style-type: none;\n",
       "            }\n",
       "        }\n",
       "\n",
       "        .instructions-section {\n",
       "            margin-top: 16px;\n",
       "            font-size: 14px;\n",
       "\n",
       "            ul {\n",
       "                margin-top: 0;\n",
       "                margin-bottom: 0;\n",
       "            }\n",
       "        }\n",
       "\n",
       "        code {\n",
       "            font-family: monospace;\n",
       "        }\n",
       "\n",
       "        .note {\n",
       "            color: #666;\n",
       "        }\n",
       "\n",
       "        a {\n",
       "            color: #2272B4;\n",
       "            text-decoration: none;\n",
       "        }\n",
       "\n",
       "        a:hover {\n",
       "            color: #005580;\n",
       "        }\n",
       "    </style>\n",
       "</head>\n",
       "<body>\n",
       "<div>\n",
       "    <div class=\"header\">\n",
       "        <a href=\"http://127.0.0.1:5000/#/experiments/762162427115306689/runs/5f298215e13a41f592007f61ff302c3b/traces\" class=\"button\">\n",
       "            View evaluation results in MLflow\n",
       "            <svg xmlns=\"http://www.w3.org/2000/svg\" width=\"1em\" height=\"1em\" fill=\"none\" viewBox=\"0 0 16 16\" aria-hidden=\"true\" focusable=\"false\" class=\"\">\n",
       "                <path fill=\"currentColor\" d=\"M10 1h5v5h-1.5V3.56L8.53 8.53 7.47 7.47l4.97-4.97H10z\"></path>\n",
       "                <path fill=\"currentColor\" d=\"M1 2.75A.75.75 0 0 1 1.75 2H8v1.5H2.5v10h10V8H14v6.25a.75.75 0 0 1-.75.75H1.75a.75.75 0 0 1-.75-.75z\"></path>\n",
       "            </svg>\n",
       "        </a>\n",
       "    </div>\n",
       "</div>\n",
       "</body>\n",
       "</html>\n"
      ],
      "text/plain": [
       "<IPython.core.display.HTML object>"
      ]
     },
     "metadata": {},
     "output_type": "display_data"
    },
    {
     "name": "stdout",
     "output_type": "stream",
     "text": [
      "EvaluationResult(\n",
      "  run_id: 5f298215e13a41f592007f61ff302c3b\n",
      "  metrics:\n",
      "    exact_match/mean: 0.75\n",
      "  result_df: [4 rows x 9 cols]\n",
      ")\n"
     ]
    }
   ],
   "source": [
    "results = mlflow.genai.evaluate(\n",
    "            data=dataset,\n",
    "            predict_fn=llm_function,\n",
    "            scorers=[exact_match\n",
    "            ],\n",
    "        )\n",
    "print(results)\n"
   ]
  }
 ],
 "metadata": {
  "kernelspec": {
   "display_name": "dev",
   "language": "python",
   "name": "python3"
  },
  "language_info": {
   "codemirror_mode": {
    "name": "ipython",
    "version": 3
   },
   "file_extension": ".py",
   "mimetype": "text/x-python",
   "name": "python",
   "nbconvert_exporter": "python",
   "pygments_lexer": "ipython3",
   "version": "3.11.13"
  }
 },
 "nbformat": 4,
 "nbformat_minor": 5
}
